{
 "cells": [
  {
   "cell_type": "code",
   "execution_count": 1,
   "metadata": {},
   "outputs": [
    {
     "name": "stdout",
     "output_type": "stream",
     "text": [
      "/net/pulsar/home/koes/jok120/openfold\n"
     ]
    }
   ],
   "source": [
    "from create_and_run_slurmies import create_eval_job_df, create_slurmies\n",
    "import argparse\n",
    "\n",
    "%cd ~/openfold"
   ]
  },
  {
   "cell_type": "code",
   "execution_count": 2,
   "metadata": {},
   "outputs": [],
   "source": [
    "# make a fake args object with exp_directory, eval_job_csv, slurmie_outdir, base_slurm_str, location\n",
    "args = argparse.Namespace()\n",
    "args.exp_directory = \"/net/pulsar/home/koes/jok120/openfold/jk_research/evaluations/experiment_directory.csv\"\n",
    "args.eval_job_csv = \"/net/pulsar/home/koes/jok120/openfold/jk_research/evaluations/230418/eval_jobs.csv\"\n",
    "args.slurmie_outdir = \"out/evaluations/230418-auto/slurmies\"\n",
    "args.base_slurm_str = \"/net/pulsar/home/koes/jok120/openfold/jk_research/evaluations/230418/subjob_skeleton.slurm\"\n",
    "args.location = \"g019\""
   ]
  },
  {
   "cell_type": "code",
   "execution_count": 3,
   "metadata": {},
   "outputs": [],
   "source": [
    "df = create_eval_job_df(args.exp_directory, args.eval_job_csv, args.location)"
   ]
  },
  {
   "cell_type": "code",
   "execution_count": 4,
   "metadata": {},
   "outputs": [
    {
     "data": {
      "text/html": [
       "<div>\n",
       "<style scoped>\n",
       "    .dataframe tbody tr th:only-of-type {\n",
       "        vertical-align: middle;\n",
       "    }\n",
       "\n",
       "    .dataframe tbody tr th {\n",
       "        vertical-align: top;\n",
       "    }\n",
       "\n",
       "    .dataframe thead th {\n",
       "        text-align: right;\n",
       "    }\n",
       "</style>\n",
       "<table border=\"1\" class=\"dataframe\">\n",
       "  <thead>\n",
       "    <tr style=\"text-align: right;\">\n",
       "      <th></th>\n",
       "      <th>exp_suffix</th>\n",
       "      <th>exp_name</th>\n",
       "      <th>eval_me</th>\n",
       "      <th>wandb_id</th>\n",
       "      <th>location</th>\n",
       "      <th>notes</th>\n",
       "      <th>new_exp_name</th>\n",
       "      <th>exp_dir</th>\n",
       "      <th>checkpoint_path</th>\n",
       "    </tr>\n",
       "  </thead>\n",
       "  <tbody>\n",
       "    <tr>\n",
       "      <th>1</th>\n",
       "      <td>eval_s945</td>\n",
       "      <td>baseline-scnmin-noomm-00</td>\n",
       "      <td>True</td>\n",
       "      <td>3lzb4s3o</td>\n",
       "      <td>g019</td>\n",
       "      <td>Our baseline on scnmin data. Overfits the data.</td>\n",
       "      <td>baseline_scnmin_noomm_00_eval_s945</td>\n",
       "      <td>out/experiments/230319/finetune-openfold-02/3l...</td>\n",
       "      <td>out/experiments/230319/finetune-openfold-02/3l...</td>\n",
       "    </tr>\n",
       "    <tr>\n",
       "      <th>2</th>\n",
       "      <td>eval_sx</td>\n",
       "      <td>baseline-scnmin-noomm-00</td>\n",
       "      <td>True</td>\n",
       "      <td>3lzb4s3o</td>\n",
       "      <td>g019</td>\n",
       "      <td>Our baseline on scnmin data. Overfits the data.</td>\n",
       "      <td>baseline_scnmin_noomm_00_eval_sx</td>\n",
       "      <td>out/experiments/230319/finetune-openfold-02/3l...</td>\n",
       "      <td>out/experiments/230319/finetune-openfold-02/3l...</td>\n",
       "    </tr>\n",
       "    <tr>\n",
       "      <th>4</th>\n",
       "      <td>eval_sx</td>\n",
       "      <td>xfer-scnmin-omm-01</td>\n",
       "      <td>True</td>\n",
       "      <td>c2bs3y0h</td>\n",
       "      <td>g019</td>\n",
       "      <td>Resume baseline-scnmin-noomm-00 at about 1k st...</td>\n",
       "      <td>xfer_scnmin_omm_01_eval_sx</td>\n",
       "      <td>out/experiments/230407_xfer01/finetune-openfol...</td>\n",
       "      <td>out/experiments/230407_xfer01/finetune-openfol...</td>\n",
       "    </tr>\n",
       "  </tbody>\n",
       "</table>\n",
       "</div>"
      ],
      "text/plain": [
       "  exp_suffix                  exp_name  eval_me  wandb_id location  \\\n",
       "1  eval_s945  baseline-scnmin-noomm-00     True  3lzb4s3o     g019   \n",
       "2    eval_sx  baseline-scnmin-noomm-00     True  3lzb4s3o     g019   \n",
       "4    eval_sx        xfer-scnmin-omm-01     True  c2bs3y0h     g019   \n",
       "\n",
       "                                               notes  \\\n",
       "1    Our baseline on scnmin data. Overfits the data.   \n",
       "2    Our baseline on scnmin data. Overfits the data.   \n",
       "4  Resume baseline-scnmin-noomm-00 at about 1k st...   \n",
       "\n",
       "                         new_exp_name  \\\n",
       "1  baseline_scnmin_noomm_00_eval_s945   \n",
       "2    baseline_scnmin_noomm_00_eval_sx   \n",
       "4          xfer_scnmin_omm_01_eval_sx   \n",
       "\n",
       "                                             exp_dir  \\\n",
       "1  out/experiments/230319/finetune-openfold-02/3l...   \n",
       "2  out/experiments/230319/finetune-openfold-02/3l...   \n",
       "4  out/experiments/230407_xfer01/finetune-openfol...   \n",
       "\n",
       "                                     checkpoint_path  \n",
       "1  out/experiments/230319/finetune-openfold-02/3l...  \n",
       "2  out/experiments/230319/finetune-openfold-02/3l...  \n",
       "4  out/experiments/230407_xfer01/finetune-openfol...  "
      ]
     },
     "execution_count": 4,
     "metadata": {},
     "output_type": "execute_result"
    }
   ],
   "source": [
    "df"
   ]
  },
  {
   "cell_type": "code",
   "execution_count": 5,
   "metadata": {},
   "outputs": [],
   "source": [
    "from experiments import Experiment, TrainingExperiment, EvaluationExperiment\n",
    "\n",
    "# Create EvaluationExperiment objects from the dataframe\n",
    "eval_exps = []\n",
    "for i, row in df.iterrows():\n",
    "    eval_exp = EvaluationExperiment(\n",
    "        exp_name=row[\"new_exp_name\"],\n",
    "        wandb_id=row[\"wandb_id\"],\n",
    "        location=row[\"location\"],\n",
    "        notes=f\"Evaluating {row['exp_name']}\",\n",
    "        exp_suffix=row[\"exp_suffix\"],\n",
    "        checkpoint_path=row[\"checkpoint_path\"],\n",
    "    )\n",
    "    eval_exps.append(eval_exp)"
   ]
  },
  {
   "cell_type": "code",
   "execution_count": 8,
   "metadata": {},
   "outputs": [
    {
     "name": "stdout",
     "output_type": "stream",
     "text": [
      "#!/bin/bash\n",
      "#SBATCH --job-name=job1\n",
      "#SBATCH --nodes=1\n",
      "#SBATCH --gres=gpu:1\n",
      "#SBATCH --ntasks-per-node=4\n",
      "#SBATCH --partition=dept_gpu\n",
      "#SBATCH --time=6-00:00:00\n",
      "#SBATCH --output=\"/net/pulsar/home/koes/jok120/openfold/out/%A_%6a.out\"\n",
      "#SBATCH --mail-type=ALL\n",
      "#SBATCH --mail-user=jok120@pitt.edu\n",
      "#SBATCH --nodelist=g019\n",
      "\n",
      "\n",
      "############################\n",
      "##       Description      ##\n",
      "############################\n",
      "echo \"Running job ${SLURM_JOB_ID} with ${SLURM_NTASKS} workers on node ${SLURMD_NODENAME}.\"\n",
      "echo \"Experiment: baseline_scnmin_noomm_00_eval_s945\"\n",
      "\n",
      "############################\n",
      "##       Environment      ##\n",
      "############################\n",
      "source scripts/activate_conda_env.sh\n",
      "module load cuda/11.3.0\n",
      "module load gcc/8.2.0\n",
      "\n",
      "\n",
      "############################\n",
      "##     Array Job Exec.    ##\n",
      "############################\n",
      "mkdir -p out/evaluations/baseline_scnmin_noomm_00_eval_s945\n",
      "\n",
      "\n",
      "./train_openfold.py data/train_structs/scnmin_structs/ data/alignments/scnmin_alignments/ data/template_structures/roda_pdbs_snapshotted_flattened_do_not_overwrite/ out/evaluations/baseline_scnmin_noomm_00_eval_s945 2021-10-10 \\\\\n",
      "    --train_chain_data_cache_path=data/caches/chain_data_cache_rodasnapshot_clustered.json \\\n",
      "    --template_release_dates_cache_path=data/caches/mmcif_cache_rodasnapshot.json \\\n",
      "    --val_data_dir=data/validation/cameo/20220116/minimized/data_dir \\\n",
      "    --val_alignment_dir=data/validation/cameo/20220116/minimized/alignments \\\n",
      "    --obsolete_pdbs_file_path=data/obsolete_230310.dat \\\n",
      "    --resume_from_ckpt=out/experiments/230319/finetune-openfold-02/3lzb4s3o/checkpoints/62-944.ckpt \\\n",
      "    --deepspeed_config_path=deepspeed_config_jk03.json \\\n",
      "    --gpus=1 \\\n",
      "    --batch_size=1 \\\n",
      "    --accumulate_grad_batches=1 \\\n",
      "    --checkpoint_every_epoch \\\n",
      "    --wandb \\\n",
      "    --wandb_project=finetune-openfold-02 \\\n",
      "    --wandb_entity=koes-group \\\n",
      "    --precision=bf16 \\\n",
      "    --resume_model_weights_only=True \\\n",
      "    --train_epoch_len=1000 \\\n",
      "    --max_epochs=500 \\\n",
      "    --debug \\\n",
      "    --add_struct_metrics \\\n",
      "    --openmm_weight=1 \\\n",
      "    --openmm_activation=None \\\n",
      "    --seed=0 \\\n",
      "    --num_workers=2 \\\n",
      "    --write_pdbs \\\n",
      "    --write_pdbs_every_n_steps=1 \\\n",
      "    --log_every_n_steps=1 \\\n",
      "    --config_preset=finetuning_sidechainnet \\\n",
      "    --violation_loss_weight=1 \\\n",
      "    --scheduler_base_lr=0 \\\n",
      "    --scheduler_warmup_no_steps=500 \\\n",
      "    --scheduler_max_lr=5e-4 \\\n",
      "    --use_scn_pdb_names=True \\\n",
      "    --use_openmm=True \\\n",
      "    --use_alphafold_sampling=True \\\n",
      "    --experiment=baseline_scnmin_noomm_00_eval_s945 \\\n",
      "    --wandb_tags=\"eval\" \\\n",
      "    --wandb_note=\"\" \\\n",
      "    --log_to_csv=True \\\n",
      "    --openmm_squashed_loss=False \\\n",
      "    --openmm_modified_sigmoid=5,1000000,300000,5 \\\n",
      "    --run_validate_first=True \\\n",
      "    --auto_slurm_resubmit=False \\\n",
      "    --use_openmm_warmup=True \\\n",
      "    --openmm_warmup_steps=1000 \\\n",
      "    --trainer_mode=validate-val \\\n",
      "    --test_data_dir=data/test/cameo/20230103/minimized/data_dir \\\n",
      "    --test_alignment_dir=data/test/cameo/20230103/minimized/alignments\n",
      "\n",
      "\n",
      "############################\n",
      "##     Copy Files Back    ##\n",
      "############################\n",
      "echo \"done.\"\n",
      "exit 0\n",
      "\n"
     ]
    }
   ],
   "source": [
    "print(eval_exps[0].get_slurm_script_str(\"job1\"))"
   ]
  },
  {
   "cell_type": "code",
   "execution_count": 7,
   "metadata": {},
   "outputs": [
    {
     "data": {
      "text/plain": [
       "'/net/pulsar/home/koes/jok120/openfold'"
      ]
     },
     "execution_count": 7,
     "metadata": {},
     "output_type": "execute_result"
    }
   ],
   "source": [
    "%pwd"
   ]
  },
  {
   "cell_type": "code",
   "execution_count": null,
   "metadata": {},
   "outputs": [],
   "source": []
  }
 ],
 "metadata": {
  "kernelspec": {
   "display_name": "sidechainnetv2",
   "language": "python",
   "name": "python3"
  },
  "language_info": {
   "codemirror_mode": {
    "name": "ipython",
    "version": 3
   },
   "file_extension": ".py",
   "mimetype": "text/x-python",
   "name": "python",
   "nbconvert_exporter": "python",
   "pygments_lexer": "ipython3",
   "version": "3.8.12"
  },
  "orig_nbformat": 4
 },
 "nbformat": 4,
 "nbformat_minor": 2
}
