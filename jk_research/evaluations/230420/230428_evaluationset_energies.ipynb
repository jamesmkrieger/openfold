{
 "cells": [
  {
   "attachments": {},
   "cell_type": "markdown",
   "metadata": {},
   "source": [
    "This notebook will measure the OpenMM energies of both the crystal and minimized structures\n",
    "of the validation and test sets.\n",
    "\n",
    "Because there are fewer minimized proteins, we will start with those protein identities \n",
    "and move from there. The notebook should create a CSV that reports the protein id,\n",
    "evaluation set name, minimized energy, and unminimized energy."
   ]
  },
  {
   "cell_type": "code",
   "execution_count": 1,
   "metadata": {},
   "outputs": [
    {
     "name": "stdout",
     "output_type": "stream",
     "text": [
      "/net/pulsar/home/koes/jok120/openfold\n"
     ]
    }
   ],
   "source": [
    "from glob import glob\n",
    "import os\n",
    "import numpy as np\n",
    "import pandas as pd\n",
    "import matplotlib.pyplot as plt\n",
    "import seaborn as sns\n",
    "from tqdm import tqdm\n",
    "\n",
    "from sidechainnet import SCNProtein\n",
    "\n",
    "%cd ~/openfold"
   ]
  },
  {
   "attachments": {},
   "cell_type": "markdown",
   "metadata": {},
   "source": [
    "# Data paths"
   ]
  },
  {
   "cell_type": "code",
   "execution_count": 2,
   "metadata": {},
   "outputs": [],
   "source": [
    "data = {\n",
    "    'test': {\n",
    "        'unmin': {\n",
    "            \"dirpath\": 'data/test/cameo/20230103/data_dir',\n",
    "            \"scnproteins\": []\n",
    "        },\n",
    "        'min': {\n",
    "            \"dirpath\": 'data/test/cameo/20230103/minimized/data_dir',\n",
    "            \"scnproteins\": []\n",
    "        }\n",
    "    },\n",
    "    'val': {\n",
    "        'unmin': {\n",
    "            \"dirpath\": 'data/validation/cameo/20220116/data_dir',\n",
    "            \"scnproteins\": []\n",
    "        },\n",
    "        'min': {\n",
    "            \"dirpath\": 'data/validation/cameo/20220116/minimized/data_dir',\n",
    "            \"scnproteins\": []\n",
    "        }\n",
    "    },\n",
    "}\n"
   ]
  },
  {
   "cell_type": "markdown",
   "metadata": {},
   "source": [
    "# Functions"
   ]
  },
  {
   "cell_type": "code",
   "execution_count": 2,
   "metadata": {},
   "outputs": [],
   "source": [
    "def get_scnproteins_from_paths(paths, chids=None):\n",
    "    \"\"\"Use SCNProtein.from_{pdb,cif} to get list of SCNProtein objs from list of paths.\"\"\"\n",
    "\n",
    "    iterator = tqdm(paths) if chids is None else tqdm(zip(paths, chids), total=len(paths))\n",
    "\n",
    "    scnproteins = []\n",
    "    for path_chid in iterator:\n",
    "        if chids is None:\n",
    "            path = path_chid\n",
    "            pdbid_chain = os.path.basename(path).split('.')[0]\n",
    "            pdbid, chain_id = pdbid_chain.split('_')\n",
    "        else:\n",
    "            path, chain_id = path_chid\n",
    "            pdbid = os.path.basename(path).split('.')[0]\n",
    "        \n",
    "        if path.endswith('.pdb'):\n",
    "            scnproteins.append(SCNProtein.from_pdb(path, pdbid=pdbid_chain))\n",
    "        elif path.endswith('.cif'):\n",
    "            scnproteins.append(SCNProtein.from_cif(path, chid=chain_id, pdbid=f\"{pdbid}_{chain_id}\"))\n",
    "        else:\n",
    "            raise ValueError(f'Path {path} does not end with .pdb or .cif')\n",
    "    return scnproteins\n"
   ]
  },
  {
   "cell_type": "code",
   "execution_count": 3,
   "metadata": {},
   "outputs": [],
   "source": [
    "def get_protein_paths_from_dir(data_dir):\n",
    "    \"\"\"Return list of protein files (.cif or .pdb) from data_dir.\"\"\"\n",
    "    return glob(os.path.join(data_dir, '*'))"
   ]
  },
  {
   "cell_type": "code",
   "execution_count": 4,
   "metadata": {},
   "outputs": [],
   "source": [
    "def get_energy_data(scnprotein):\n",
    "    results = {}\n",
    "    results['openmm_energy'] = scnprotein.get_energy(add_hydrogens_via_openmm=True,\n",
    "                                                     return_unitless_kjmol=True,\n",
    "                                                     add_missing=True,\n",
    "                                                     add_hydrogens_via_scnprotein=False)\n",
    "    scnprotein.reset_hydrogens_and_openmm()\n",
    "    results['scn_energy'] = scnprotein.get_energy(add_hydrogens_via_openmm=False,\n",
    "                                                  return_unitless_kjmol=True,\n",
    "                                                  add_missing=False,\n",
    "                                                  add_hydrogens_via_scnprotein=True)\n",
    "    return results"
   ]
  },
  {
   "attachments": {},
   "cell_type": "markdown",
   "metadata": {},
   "source": [
    "# Analysis and Save DataFrame"
   ]
  },
  {
   "cell_type": "code",
   "execution_count": 6,
   "metadata": {},
   "outputs": [
    {
     "name": "stderr",
     "output_type": "stream",
     "text": [
      "100%|██████████| 98/98 [00:43<00:00,  2.27it/s]\n"
     ]
    },
    {
     "name": "stdout",
     "output_type": "stream",
     "text": [
      "Loaded 98 proteins from data/test/cameo/20230103/minimized/data_dir\n"
     ]
    },
    {
     "name": "stderr",
     "output_type": "stream",
     "text": [
      "100%|██████████| 22/22 [00:12<00:00,  1.73it/s]"
     ]
    },
    {
     "name": "stdout",
     "output_type": "stream",
     "text": [
      "Loaded 22 proteins from data/validation/cameo/20220116/minimized/data_dir\n"
     ]
    },
    {
     "name": "stderr",
     "output_type": "stream",
     "text": [
      "\n"
     ]
    }
   ],
   "source": [
    "# Load the minimized proteins first\n",
    "for dataset, dataset_dict in data.items():\n",
    "    data_dir = dataset_dict['min']['dirpath']\n",
    "    protein_paths = get_protein_paths_from_dir(data_dir)\n",
    "    scnproteins = get_scnproteins_from_paths(protein_paths)\n",
    "    dataset_dict['min']['scnproteins'] = scnproteins\n",
    "    print(f\"Loaded {len(scnproteins)} proteins from {data_dir}\")"
   ]
  },
  {
   "cell_type": "code",
   "execution_count": 7,
   "metadata": {},
   "outputs": [
    {
     "name": "stderr",
     "output_type": "stream",
     "text": [
      "100%|██████████| 97/97 [01:20<00:00,  1.20it/s]\n"
     ]
    },
    {
     "name": "stdout",
     "output_type": "stream",
     "text": [
      "Loaded 97 proteins from data/test/cameo/20230103/data_dir\n"
     ]
    },
    {
     "name": "stderr",
     "output_type": "stream",
     "text": [
      "100%|██████████| 22/22 [00:20<00:00,  1.06it/s]"
     ]
    },
    {
     "name": "stdout",
     "output_type": "stream",
     "text": [
      "Loaded 22 proteins from data/validation/cameo/20220116/data_dir\n"
     ]
    },
    {
     "name": "stderr",
     "output_type": "stream",
     "text": [
      "\n"
     ]
    }
   ],
   "source": [
    "# Now, observe the minimized protein pdbids and load the cooresponding unminimized proteins\n",
    "for dataset, dataset_dict in data.items():\n",
    "    min_pdbids_with_chains = [p.id for p in dataset_dict['min']['scnproteins']]\n",
    "    min_pdbids_with_chains = {p.split('_')[0]: p.split('_')[1] for p in min_pdbids_with_chains}\n",
    "    data_dir = dataset_dict['unmin']['dirpath']\n",
    "    raw_protein_paths = get_protein_paths_from_dir(data_dir)\n",
    "    filtered_protein_paths = []\n",
    "    filtered_chids = []\n",
    "    for rpp in raw_protein_paths:\n",
    "        pdbid = os.path.basename(rpp).split('.')[0]\n",
    "        if pdbid in min_pdbids_with_chains:\n",
    "            filtered_protein_paths.append(rpp)\n",
    "            filtered_chids.append(min_pdbids_with_chains[pdbid])\n",
    "\n",
    "\n",
    "    scnproteins = get_scnproteins_from_paths(filtered_protein_paths, filtered_chids)\n",
    "    dataset_dict['unmin']['scnproteins'] = scnproteins\n",
    "    print(f\"Loaded {len(scnproteins)} proteins from {data_dir}\")"
   ]
  },
  {
   "cell_type": "code",
   "execution_count": 8,
   "metadata": {},
   "outputs": [
    {
     "name": "stdout",
     "output_type": "stream",
     "text": [
      "test unmin\n"
     ]
    },
    {
     "name": "stderr",
     "output_type": "stream",
     "text": [
      "100%|██████████| 97/97 [10:40<00:00,  6.61s/it]\n"
     ]
    },
    {
     "name": "stdout",
     "output_type": "stream",
     "text": [
      "Got energy data for 97 proteins in test unmin\n",
      "test min\n"
     ]
    },
    {
     "name": "stderr",
     "output_type": "stream",
     "text": [
      "100%|██████████| 98/98 [08:01<00:00,  4.91s/it]\n"
     ]
    },
    {
     "name": "stdout",
     "output_type": "stream",
     "text": [
      "Got energy data for 98 proteins in test min\n",
      "val unmin\n"
     ]
    },
    {
     "name": "stderr",
     "output_type": "stream",
     "text": [
      "100%|██████████| 22/22 [02:04<00:00,  5.67s/it]\n"
     ]
    },
    {
     "name": "stdout",
     "output_type": "stream",
     "text": [
      "Got energy data for 22 proteins in val unmin\n",
      "val min\n"
     ]
    },
    {
     "name": "stderr",
     "output_type": "stream",
     "text": [
      "100%|██████████| 22/22 [01:58<00:00,  5.41s/it]"
     ]
    },
    {
     "name": "stdout",
     "output_type": "stream",
     "text": [
      "Got energy data for 22 proteins in val min\n"
     ]
    },
    {
     "name": "stderr",
     "output_type": "stream",
     "text": [
      "\n"
     ]
    }
   ],
   "source": [
    "# Get the energy data for each protein and save it to a dataframe\n",
    "for dataset, dataset_dict in data.items():\n",
    "    for min_or_unmin, min_or_unmin_dict in dataset_dict.items():\n",
    "        print(dataset, min_or_unmin)\n",
    "        scnproteins = min_or_unmin_dict['scnproteins']\n",
    "        energy_data = []\n",
    "        for scnprotein in tqdm(scnproteins):\n",
    "            energy_data.append(get_energy_data(scnprotein))\n",
    "        min_or_unmin_dict['energy_data'] = energy_data\n",
    "        print(f\"Got energy data for {len(energy_data)} proteins in {dataset} {min_or_unmin}\")\n"
   ]
  },
  {
   "cell_type": "code",
   "execution_count": 9,
   "metadata": {},
   "outputs": [],
   "source": [
    "\n",
    "# Save the data to a single unified dataframe for all proteins, with the columns being:\n",
    "# pdbid, chain_id, dataset, min_or_unmin, openmm_energy, scn_energy\n",
    "\n",
    "df = pd.DataFrame(columns=['pdbid', 'chain_id', 'dataset', 'min_or_unmin', 'openmm_energy', 'scn_energy'])\n",
    "for dataset, dataset_dict in data.items():\n",
    "    for min_or_unmin, min_or_unmin_dict in dataset_dict.items():\n",
    "        energy_data = min_or_unmin_dict['energy_data']\n",
    "        for i, ed in enumerate(energy_data):\n",
    "            df = df.append({\n",
    "                'pdbid': min_or_unmin_dict['scnproteins'][i].id.split('_')[0],\n",
    "                'chain_id': min_or_unmin_dict['scnproteins'][i].id.split('_')[1],\n",
    "                'dataset': dataset,\n",
    "                'min_or_unmin': min_or_unmin,\n",
    "                'openmm_energy': ed['openmm_energy'],\n",
    "                'scn_energy': ed['scn_energy']\n",
    "            }, ignore_index=True)\n"
   ]
  },
  {
   "cell_type": "code",
   "execution_count": 12,
   "metadata": {},
   "outputs": [
    {
     "data": {
      "text/html": [
       "<div>\n",
       "<style scoped>\n",
       "    .dataframe tbody tr th:only-of-type {\n",
       "        vertical-align: middle;\n",
       "    }\n",
       "\n",
       "    .dataframe tbody tr th {\n",
       "        vertical-align: top;\n",
       "    }\n",
       "\n",
       "    .dataframe thead th {\n",
       "        text-align: right;\n",
       "    }\n",
       "</style>\n",
       "<table border=\"1\" class=\"dataframe\">\n",
       "  <thead>\n",
       "    <tr style=\"text-align: right;\">\n",
       "      <th></th>\n",
       "      <th>pdbid</th>\n",
       "      <th>chain_id</th>\n",
       "      <th>dataset</th>\n",
       "      <th>min_or_unmin</th>\n",
       "      <th>openmm_energy</th>\n",
       "      <th>scn_energy</th>\n",
       "      <th>pdbid_chainid</th>\n",
       "    </tr>\n",
       "  </thead>\n",
       "  <tbody>\n",
       "    <tr>\n",
       "      <th>0</th>\n",
       "      <td>7sci</td>\n",
       "      <td>A</td>\n",
       "      <td>test</td>\n",
       "      <td>unmin</td>\n",
       "      <td>-99236.965301</td>\n",
       "      <td>-69827.339318</td>\n",
       "      <td>7sci_A</td>\n",
       "    </tr>\n",
       "    <tr>\n",
       "      <th>1</th>\n",
       "      <td>7wgk</td>\n",
       "      <td>A</td>\n",
       "      <td>test</td>\n",
       "      <td>unmin</td>\n",
       "      <td>-45585.986728</td>\n",
       "      <td>-32588.705792</td>\n",
       "      <td>7wgk_A</td>\n",
       "    </tr>\n",
       "    <tr>\n",
       "      <th>2</th>\n",
       "      <td>7wj0</td>\n",
       "      <td>A</td>\n",
       "      <td>test</td>\n",
       "      <td>unmin</td>\n",
       "      <td>-11886.696006</td>\n",
       "      <td>-8719.855140</td>\n",
       "      <td>7wj0_A</td>\n",
       "    </tr>\n",
       "    <tr>\n",
       "      <th>3</th>\n",
       "      <td>7pvm</td>\n",
       "      <td>A</td>\n",
       "      <td>test</td>\n",
       "      <td>unmin</td>\n",
       "      <td>-6221.771473</td>\n",
       "      <td>-4408.863527</td>\n",
       "      <td>7pvm_A</td>\n",
       "    </tr>\n",
       "    <tr>\n",
       "      <th>4</th>\n",
       "      <td>7ead</td>\n",
       "      <td>A</td>\n",
       "      <td>test</td>\n",
       "      <td>unmin</td>\n",
       "      <td>-21121.873942</td>\n",
       "      <td>-13155.142319</td>\n",
       "      <td>7ead_A</td>\n",
       "    </tr>\n",
       "    <tr>\n",
       "      <th>...</th>\n",
       "      <td>...</td>\n",
       "      <td>...</td>\n",
       "      <td>...</td>\n",
       "      <td>...</td>\n",
       "      <td>...</td>\n",
       "      <td>...</td>\n",
       "      <td>...</td>\n",
       "    </tr>\n",
       "    <tr>\n",
       "      <th>234</th>\n",
       "      <td>7dfe</td>\n",
       "      <td>A</td>\n",
       "      <td>val</td>\n",
       "      <td>min</td>\n",
       "      <td>-19783.327374</td>\n",
       "      <td>-12876.558158</td>\n",
       "      <td>7dfe_A</td>\n",
       "    </tr>\n",
       "    <tr>\n",
       "      <th>235</th>\n",
       "      <td>7v5y</td>\n",
       "      <td>B</td>\n",
       "      <td>val</td>\n",
       "      <td>min</td>\n",
       "      <td>-20284.087039</td>\n",
       "      <td>-15776.160864</td>\n",
       "      <td>7v5y_B</td>\n",
       "    </tr>\n",
       "    <tr>\n",
       "      <th>236</th>\n",
       "      <td>7ee3</td>\n",
       "      <td>C</td>\n",
       "      <td>val</td>\n",
       "      <td>min</td>\n",
       "      <td>-22390.912999</td>\n",
       "      <td>-15917.149032</td>\n",
       "      <td>7ee3_C</td>\n",
       "    </tr>\n",
       "    <tr>\n",
       "      <th>237</th>\n",
       "      <td>7wgk</td>\n",
       "      <td>A</td>\n",
       "      <td>val</td>\n",
       "      <td>min</td>\n",
       "      <td>-45021.939726</td>\n",
       "      <td>-32776.283638</td>\n",
       "      <td>7wgk_A</td>\n",
       "    </tr>\n",
       "    <tr>\n",
       "      <th>238</th>\n",
       "      <td>7f0h</td>\n",
       "      <td>A</td>\n",
       "      <td>val</td>\n",
       "      <td>min</td>\n",
       "      <td>-30105.874656</td>\n",
       "      <td>-21806.659235</td>\n",
       "      <td>7f0h_A</td>\n",
       "    </tr>\n",
       "  </tbody>\n",
       "</table>\n",
       "<p>239 rows × 7 columns</p>\n",
       "</div>"
      ],
      "text/plain": [
       "    pdbid chain_id dataset min_or_unmin  openmm_energy    scn_energy  \\\n",
       "0    7sci        A    test        unmin  -99236.965301 -69827.339318   \n",
       "1    7wgk        A    test        unmin  -45585.986728 -32588.705792   \n",
       "2    7wj0        A    test        unmin  -11886.696006  -8719.855140   \n",
       "3    7pvm        A    test        unmin   -6221.771473  -4408.863527   \n",
       "4    7ead        A    test        unmin  -21121.873942 -13155.142319   \n",
       "..    ...      ...     ...          ...            ...           ...   \n",
       "234  7dfe        A     val          min  -19783.327374 -12876.558158   \n",
       "235  7v5y        B     val          min  -20284.087039 -15776.160864   \n",
       "236  7ee3        C     val          min  -22390.912999 -15917.149032   \n",
       "237  7wgk        A     val          min  -45021.939726 -32776.283638   \n",
       "238  7f0h        A     val          min  -30105.874656 -21806.659235   \n",
       "\n",
       "    pdbid_chainid  \n",
       "0          7sci_A  \n",
       "1          7wgk_A  \n",
       "2          7wj0_A  \n",
       "3          7pvm_A  \n",
       "4          7ead_A  \n",
       "..            ...  \n",
       "234        7dfe_A  \n",
       "235        7v5y_B  \n",
       "236        7ee3_C  \n",
       "237        7wgk_A  \n",
       "238        7f0h_A  \n",
       "\n",
       "[239 rows x 7 columns]"
      ]
     },
     "execution_count": 12,
     "metadata": {},
     "output_type": "execute_result"
    }
   ],
   "source": [
    "df['pdbid_chainid'] = df['pdbid'] + '_' + df['chain_id']\n",
    "df"
   ]
  },
  {
   "cell_type": "markdown",
   "metadata": {},
   "source": [
    "## Identify duplicates in test set"
   ]
  },
  {
   "cell_type": "code",
   "execution_count": 19,
   "metadata": {},
   "outputs": [
    {
     "data": {
      "text/html": [
       "<div>\n",
       "<style scoped>\n",
       "    .dataframe tbody tr th:only-of-type {\n",
       "        vertical-align: middle;\n",
       "    }\n",
       "\n",
       "    .dataframe tbody tr th {\n",
       "        vertical-align: top;\n",
       "    }\n",
       "\n",
       "    .dataframe thead th {\n",
       "        text-align: right;\n",
       "    }\n",
       "</style>\n",
       "<table border=\"1\" class=\"dataframe\">\n",
       "  <thead>\n",
       "    <tr style=\"text-align: right;\">\n",
       "      <th></th>\n",
       "      <th>pdbid</th>\n",
       "      <th>chain_id</th>\n",
       "      <th>dataset</th>\n",
       "      <th>min_or_unmin</th>\n",
       "      <th>openmm_energy</th>\n",
       "      <th>scn_energy</th>\n",
       "      <th>pdbid_chainid</th>\n",
       "    </tr>\n",
       "  </thead>\n",
       "  <tbody>\n",
       "    <tr>\n",
       "      <th>105</th>\n",
       "      <td>7mwr</td>\n",
       "      <td>A</td>\n",
       "      <td>test</td>\n",
       "      <td>min</td>\n",
       "      <td>-48092.537243</td>\n",
       "      <td>-37155.064159</td>\n",
       "      <td>7mwr_A</td>\n",
       "    </tr>\n",
       "    <tr>\n",
       "      <th>110</th>\n",
       "      <td>7puo</td>\n",
       "      <td>A</td>\n",
       "      <td>test</td>\n",
       "      <td>min</td>\n",
       "      <td>-25422.463357</td>\n",
       "      <td>-17635.847585</td>\n",
       "      <td>7puo_A</td>\n",
       "    </tr>\n",
       "    <tr>\n",
       "      <th>128</th>\n",
       "      <td>7l8n</td>\n",
       "      <td>A</td>\n",
       "      <td>test</td>\n",
       "      <td>min</td>\n",
       "      <td>-25161.063715</td>\n",
       "      <td>-17164.252443</td>\n",
       "      <td>7l8n_A</td>\n",
       "    </tr>\n",
       "    <tr>\n",
       "      <th>154</th>\n",
       "      <td>7mcc</td>\n",
       "      <td>A</td>\n",
       "      <td>test</td>\n",
       "      <td>min</td>\n",
       "      <td>-34384.561107</td>\n",
       "      <td>-23019.641517</td>\n",
       "      <td>7mcc_A</td>\n",
       "    </tr>\n",
       "    <tr>\n",
       "      <th>183</th>\n",
       "      <td>7wgk</td>\n",
       "      <td>A</td>\n",
       "      <td>test</td>\n",
       "      <td>min</td>\n",
       "      <td>-45002.697783</td>\n",
       "      <td>-32768.836113</td>\n",
       "      <td>7wgk_A</td>\n",
       "    </tr>\n",
       "    <tr>\n",
       "      <th>217</th>\n",
       "      <td>7mwr</td>\n",
       "      <td>A</td>\n",
       "      <td>val</td>\n",
       "      <td>min</td>\n",
       "      <td>-47465.000557</td>\n",
       "      <td>-37139.103229</td>\n",
       "      <td>7mwr_A</td>\n",
       "    </tr>\n",
       "    <tr>\n",
       "      <th>219</th>\n",
       "      <td>7puo</td>\n",
       "      <td>A</td>\n",
       "      <td>val</td>\n",
       "      <td>min</td>\n",
       "      <td>-25401.226364</td>\n",
       "      <td>-17633.071464</td>\n",
       "      <td>7puo_A</td>\n",
       "    </tr>\n",
       "    <tr>\n",
       "      <th>222</th>\n",
       "      <td>7l8n</td>\n",
       "      <td>A</td>\n",
       "      <td>val</td>\n",
       "      <td>min</td>\n",
       "      <td>-25142.619541</td>\n",
       "      <td>-17168.849909</td>\n",
       "      <td>7l8n_A</td>\n",
       "    </tr>\n",
       "    <tr>\n",
       "      <th>229</th>\n",
       "      <td>7mcc</td>\n",
       "      <td>A</td>\n",
       "      <td>val</td>\n",
       "      <td>min</td>\n",
       "      <td>-34378.333590</td>\n",
       "      <td>-23030.312678</td>\n",
       "      <td>7mcc_A</td>\n",
       "    </tr>\n",
       "    <tr>\n",
       "      <th>237</th>\n",
       "      <td>7wgk</td>\n",
       "      <td>A</td>\n",
       "      <td>val</td>\n",
       "      <td>min</td>\n",
       "      <td>-45021.939726</td>\n",
       "      <td>-32776.283638</td>\n",
       "      <td>7wgk_A</td>\n",
       "    </tr>\n",
       "  </tbody>\n",
       "</table>\n",
       "</div>"
      ],
      "text/plain": [
       "    pdbid chain_id dataset min_or_unmin  openmm_energy    scn_energy  \\\n",
       "105  7mwr        A    test          min  -48092.537243 -37155.064159   \n",
       "110  7puo        A    test          min  -25422.463357 -17635.847585   \n",
       "128  7l8n        A    test          min  -25161.063715 -17164.252443   \n",
       "154  7mcc        A    test          min  -34384.561107 -23019.641517   \n",
       "183  7wgk        A    test          min  -45002.697783 -32768.836113   \n",
       "217  7mwr        A     val          min  -47465.000557 -37139.103229   \n",
       "219  7puo        A     val          min  -25401.226364 -17633.071464   \n",
       "222  7l8n        A     val          min  -25142.619541 -17168.849909   \n",
       "229  7mcc        A     val          min  -34378.333590 -23030.312678   \n",
       "237  7wgk        A     val          min  -45021.939726 -32776.283638   \n",
       "\n",
       "    pdbid_chainid  \n",
       "105        7mwr_A  \n",
       "110        7puo_A  \n",
       "128        7l8n_A  \n",
       "154        7mcc_A  \n",
       "183        7wgk_A  \n",
       "217        7mwr_A  \n",
       "219        7puo_A  \n",
       "222        7l8n_A  \n",
       "229        7mcc_A  \n",
       "237        7wgk_A  "
      ]
     },
     "execution_count": 19,
     "metadata": {},
     "output_type": "execute_result"
    }
   ],
   "source": [
    "# find rows where pdbid_chainid is duplicated\n",
    "# df[df.duplicated(subset=['pdbid_chainid'], keep=False)]\n",
    "df[df.duplicated(subset=['pdbid_chainid', 'min_or_unmin'], keep=False) & (df['min_or_unmin'] == 'min')]"
   ]
  },
  {
   "cell_type": "code",
   "execution_count": 20,
   "metadata": {},
   "outputs": [
    {
     "name": "stdout",
     "output_type": "stream",
     "text": [
      "/net/pulsar/home/koes/jok120/openfold/jk_research/evaluations/230420\n"
     ]
    }
   ],
   "source": [
    "# Save the dataframe to a csv in the same directory as this notebook\n",
    "%cd ~/openfold/jk_research/evaluations/230420\n",
    "df.to_csv('230428_evaluationset_energies.csv', index=False)"
   ]
  },
  {
   "cell_type": "code",
   "execution_count": 23,
   "metadata": {},
   "outputs": [
    {
     "name": "stdout",
     "output_type": "stream",
     "text": [
      "/net/pulsar/home/koes/jok120/openfold\n"
     ]
    }
   ],
   "source": [
    "# Move proteins that are duplicated in the test set from their directories current to a\n",
    "# new subdirectory 'duplicates'\n",
    "%cd ~/openfold\n",
    "\n",
    "duplicate_test_proteins = df[df.duplicated(subset=['pdbid_chainid', 'min_or_unmin'], keep=False) & (df['min_or_unmin'] == 'min')]['pdbid_chainid'].unique()\n",
    "os.makedirs(f\"data/test/cameo/20230103/minimized/data_dir/duplicates\", exist_ok=True)\n",
    "os.makedirs(f\"data/test/cameo/20230103/data_dir/duplicates\", exist_ok=True)\n",
    "os.makedirs(f\"data/test/cameo/20230103/minimized/alignments/duplicates\", exist_ok=True)\n",
    "os.makedirs(f\"data/test/cameo/20230103/alignments/duplicates\", exist_ok=True)\n",
    "\n",
    "for dtp in duplicate_test_proteins:\n",
    "    # move structs\n",
    "    os.rename(f\"data/test/cameo/20230103/minimized/data_dir/{dtp}.pdb\", f\"data/test/cameo/20230103/minimized/data_dir/duplicates/{dtp}.pdb\")\n",
    "    os.rename(f\"data/test/cameo/20230103/data_dir/{dtp.split('_')[0]}.cif\", f\"data/test/cameo/20230103/data_dir/duplicates/{dtp.split('_')[0]}.cif\")\n",
    "    # move alignments\n",
    "    os.rename(f\"data/test/cameo/20230103/minimized/alignments/{dtp}\", f\"data/test/cameo/20230103/minimized/alignments/duplicates/{dtp}\")\n",
    "    os.rename(f\"data/test/cameo/20230103/alignments/{dtp}\", f\"data/test/cameo/20230103/alignments/duplicates/{dtp}\")"
   ]
  },
  {
   "cell_type": "markdown",
   "metadata": {},
   "source": [
    "# Load dataframe"
   ]
  },
  {
   "cell_type": "code",
   "execution_count": 5,
   "metadata": {},
   "outputs": [
    {
     "data": {
      "text/html": [
       "<div>\n",
       "<style scoped>\n",
       "    .dataframe tbody tr th:only-of-type {\n",
       "        vertical-align: middle;\n",
       "    }\n",
       "\n",
       "    .dataframe tbody tr th {\n",
       "        vertical-align: top;\n",
       "    }\n",
       "\n",
       "    .dataframe thead th {\n",
       "        text-align: right;\n",
       "    }\n",
       "</style>\n",
       "<table border=\"1\" class=\"dataframe\">\n",
       "  <thead>\n",
       "    <tr style=\"text-align: right;\">\n",
       "      <th></th>\n",
       "      <th>pdbid</th>\n",
       "      <th>chain_id</th>\n",
       "      <th>dataset</th>\n",
       "      <th>min_or_unmin</th>\n",
       "      <th>openmm_energy</th>\n",
       "      <th>scn_energy</th>\n",
       "      <th>pdbid_chainid</th>\n",
       "    </tr>\n",
       "  </thead>\n",
       "  <tbody>\n",
       "    <tr>\n",
       "      <th>0</th>\n",
       "      <td>7sci</td>\n",
       "      <td>A</td>\n",
       "      <td>test</td>\n",
       "      <td>unmin</td>\n",
       "      <td>-99236.965301</td>\n",
       "      <td>-69827.339318</td>\n",
       "      <td>7sci_A</td>\n",
       "    </tr>\n",
       "    <tr>\n",
       "      <th>1</th>\n",
       "      <td>7wgk</td>\n",
       "      <td>A</td>\n",
       "      <td>test</td>\n",
       "      <td>unmin</td>\n",
       "      <td>-45585.986728</td>\n",
       "      <td>-32588.705792</td>\n",
       "      <td>7wgk_A</td>\n",
       "    </tr>\n",
       "    <tr>\n",
       "      <th>2</th>\n",
       "      <td>7wj0</td>\n",
       "      <td>A</td>\n",
       "      <td>test</td>\n",
       "      <td>unmin</td>\n",
       "      <td>-11886.696006</td>\n",
       "      <td>-8719.855140</td>\n",
       "      <td>7wj0_A</td>\n",
       "    </tr>\n",
       "    <tr>\n",
       "      <th>3</th>\n",
       "      <td>7pvm</td>\n",
       "      <td>A</td>\n",
       "      <td>test</td>\n",
       "      <td>unmin</td>\n",
       "      <td>-6221.771473</td>\n",
       "      <td>-4408.863527</td>\n",
       "      <td>7pvm_A</td>\n",
       "    </tr>\n",
       "    <tr>\n",
       "      <th>4</th>\n",
       "      <td>7ead</td>\n",
       "      <td>A</td>\n",
       "      <td>test</td>\n",
       "      <td>unmin</td>\n",
       "      <td>-21121.873942</td>\n",
       "      <td>-13155.142319</td>\n",
       "      <td>7ead_A</td>\n",
       "    </tr>\n",
       "    <tr>\n",
       "      <th>...</th>\n",
       "      <td>...</td>\n",
       "      <td>...</td>\n",
       "      <td>...</td>\n",
       "      <td>...</td>\n",
       "      <td>...</td>\n",
       "      <td>...</td>\n",
       "      <td>...</td>\n",
       "    </tr>\n",
       "    <tr>\n",
       "      <th>234</th>\n",
       "      <td>7dfe</td>\n",
       "      <td>A</td>\n",
       "      <td>val</td>\n",
       "      <td>min</td>\n",
       "      <td>-19783.327374</td>\n",
       "      <td>-12876.558158</td>\n",
       "      <td>7dfe_A</td>\n",
       "    </tr>\n",
       "    <tr>\n",
       "      <th>235</th>\n",
       "      <td>7v5y</td>\n",
       "      <td>B</td>\n",
       "      <td>val</td>\n",
       "      <td>min</td>\n",
       "      <td>-20284.087039</td>\n",
       "      <td>-15776.160864</td>\n",
       "      <td>7v5y_B</td>\n",
       "    </tr>\n",
       "    <tr>\n",
       "      <th>236</th>\n",
       "      <td>7ee3</td>\n",
       "      <td>C</td>\n",
       "      <td>val</td>\n",
       "      <td>min</td>\n",
       "      <td>-22390.912999</td>\n",
       "      <td>-15917.149032</td>\n",
       "      <td>7ee3_C</td>\n",
       "    </tr>\n",
       "    <tr>\n",
       "      <th>237</th>\n",
       "      <td>7wgk</td>\n",
       "      <td>A</td>\n",
       "      <td>val</td>\n",
       "      <td>min</td>\n",
       "      <td>-45021.939726</td>\n",
       "      <td>-32776.283638</td>\n",
       "      <td>7wgk_A</td>\n",
       "    </tr>\n",
       "    <tr>\n",
       "      <th>238</th>\n",
       "      <td>7f0h</td>\n",
       "      <td>A</td>\n",
       "      <td>val</td>\n",
       "      <td>min</td>\n",
       "      <td>-30105.874656</td>\n",
       "      <td>-21806.659235</td>\n",
       "      <td>7f0h_A</td>\n",
       "    </tr>\n",
       "  </tbody>\n",
       "</table>\n",
       "<p>239 rows × 7 columns</p>\n",
       "</div>"
      ],
      "text/plain": [
       "    pdbid chain_id dataset min_or_unmin  openmm_energy    scn_energy  \\\n",
       "0    7sci        A    test        unmin  -99236.965301 -69827.339318   \n",
       "1    7wgk        A    test        unmin  -45585.986728 -32588.705792   \n",
       "2    7wj0        A    test        unmin  -11886.696006  -8719.855140   \n",
       "3    7pvm        A    test        unmin   -6221.771473  -4408.863527   \n",
       "4    7ead        A    test        unmin  -21121.873942 -13155.142319   \n",
       "..    ...      ...     ...          ...            ...           ...   \n",
       "234  7dfe        A     val          min  -19783.327374 -12876.558158   \n",
       "235  7v5y        B     val          min  -20284.087039 -15776.160864   \n",
       "236  7ee3        C     val          min  -22390.912999 -15917.149032   \n",
       "237  7wgk        A     val          min  -45021.939726 -32776.283638   \n",
       "238  7f0h        A     val          min  -30105.874656 -21806.659235   \n",
       "\n",
       "    pdbid_chainid  \n",
       "0          7sci_A  \n",
       "1          7wgk_A  \n",
       "2          7wj0_A  \n",
       "3          7pvm_A  \n",
       "4          7ead_A  \n",
       "..            ...  \n",
       "234        7dfe_A  \n",
       "235        7v5y_B  \n",
       "236        7ee3_C  \n",
       "237        7wgk_A  \n",
       "238        7f0h_A  \n",
       "\n",
       "[239 rows x 7 columns]"
      ]
     },
     "execution_count": 5,
     "metadata": {},
     "output_type": "execute_result"
    }
   ],
   "source": [
    "# Load the above csv\n",
    "df = pd.read_csv('~/openfold/jk_research/evaluations/230420/230428_evaluationset_energies.csv')\n",
    "df"
   ]
  },
  {
   "cell_type": "code",
   "execution_count": 7,
   "metadata": {},
   "outputs": [
    {
     "data": {
      "text/html": [
       "<div>\n",
       "<style scoped>\n",
       "    .dataframe tbody tr th:only-of-type {\n",
       "        vertical-align: middle;\n",
       "    }\n",
       "\n",
       "    .dataframe tbody tr th {\n",
       "        vertical-align: top;\n",
       "    }\n",
       "\n",
       "    .dataframe thead th {\n",
       "        text-align: right;\n",
       "    }\n",
       "</style>\n",
       "<table border=\"1\" class=\"dataframe\">\n",
       "  <thead>\n",
       "    <tr style=\"text-align: right;\">\n",
       "      <th></th>\n",
       "      <th>pdbid</th>\n",
       "      <th>chain_id</th>\n",
       "      <th>dataset</th>\n",
       "      <th>min_or_unmin</th>\n",
       "      <th>openmm_energy</th>\n",
       "      <th>scn_energy</th>\n",
       "      <th>pdbid_chainid</th>\n",
       "    </tr>\n",
       "  </thead>\n",
       "  <tbody>\n",
       "    <tr>\n",
       "      <th>1</th>\n",
       "      <td>7wgk</td>\n",
       "      <td>A</td>\n",
       "      <td>test</td>\n",
       "      <td>unmin</td>\n",
       "      <td>-45585.986728</td>\n",
       "      <td>-32588.705792</td>\n",
       "      <td>7wgk_A</td>\n",
       "    </tr>\n",
       "    <tr>\n",
       "      <th>183</th>\n",
       "      <td>7wgk</td>\n",
       "      <td>A</td>\n",
       "      <td>test</td>\n",
       "      <td>min</td>\n",
       "      <td>-45002.697783</td>\n",
       "      <td>-32768.836113</td>\n",
       "      <td>7wgk_A</td>\n",
       "    </tr>\n",
       "    <tr>\n",
       "      <th>195</th>\n",
       "      <td>7wgk</td>\n",
       "      <td>A</td>\n",
       "      <td>val</td>\n",
       "      <td>unmin</td>\n",
       "      <td>-45585.986094</td>\n",
       "      <td>-32588.705975</td>\n",
       "      <td>7wgk_A</td>\n",
       "    </tr>\n",
       "    <tr>\n",
       "      <th>237</th>\n",
       "      <td>7wgk</td>\n",
       "      <td>A</td>\n",
       "      <td>val</td>\n",
       "      <td>min</td>\n",
       "      <td>-45021.939726</td>\n",
       "      <td>-32776.283638</td>\n",
       "      <td>7wgk_A</td>\n",
       "    </tr>\n",
       "  </tbody>\n",
       "</table>\n",
       "</div>"
      ],
      "text/plain": [
       "    pdbid chain_id dataset min_or_unmin  openmm_energy    scn_energy  \\\n",
       "1    7wgk        A    test        unmin  -45585.986728 -32588.705792   \n",
       "183  7wgk        A    test          min  -45002.697783 -32768.836113   \n",
       "195  7wgk        A     val        unmin  -45585.986094 -32588.705975   \n",
       "237  7wgk        A     val          min  -45021.939726 -32776.283638   \n",
       "\n",
       "    pdbid_chainid  \n",
       "1          7wgk_A  \n",
       "183        7wgk_A  \n",
       "195        7wgk_A  \n",
       "237        7wgk_A  "
      ]
     },
     "execution_count": 7,
     "metadata": {},
     "output_type": "execute_result"
    }
   ],
   "source": [
    "df[df['pdbid'] == '7wgk']"
   ]
  }
 ],
 "metadata": {
  "kernelspec": {
   "display_name": "sidechainnetv2",
   "language": "python",
   "name": "python3"
  },
  "language_info": {
   "codemirror_mode": {
    "name": "ipython",
    "version": 3
   },
   "file_extension": ".py",
   "mimetype": "text/x-python",
   "name": "python",
   "nbconvert_exporter": "python",
   "pygments_lexer": "ipython3",
   "version": "3.8.12"
  },
  "orig_nbformat": 4
 },
 "nbformat": 4,
 "nbformat_minor": 2
}
