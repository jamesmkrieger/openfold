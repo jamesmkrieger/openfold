{
 "cells": [
  {
   "cell_type": "code",
   "execution_count": 1,
   "metadata": {},
   "outputs": [],
   "source": [
    "import pandas as pd\n",
    "import matplotlib.pyplot as plt\n",
    "import seaborn as sns\n",
    "import py3Dmol\n",
    "import glob\n",
    "sns.set_style('darkgrid')\n",
    "# %cd /net/pulsar/home/koes/jok120/openfold\n",
    "%matplotlib inline\n",
    "# increase the default matplotlib plot size\n",
    "plt.rcParams['figure.figsize'] = (10.0, 8.0)"
   ]
  },
  {
   "cell_type": "code",
   "execution_count": 2,
   "metadata": {},
   "outputs": [
    {
     "name": "stdout",
     "output_type": "stream",
     "text": [
      "There are 15702 minimized proteins.\n",
      "There are 10440 failed proteins.\n",
      "\n",
      "protein_name,key,rmsd_ca,duration\n",
      "10#1WAZ_1_A,RMSD_CA,0.6363205653541116,70.53507566452026\n",
      "10#2EEM_1_A,RMSD_CA,0.894565342666127,34.606359243392944\n",
      "10#1Z9V_1_A,RMSD_CA,1.3383635627739667,495.4431824684143\n",
      "10#2MNJ_1_A,RMSD_CA,0.3524257842023318,30.19338035583496\n",
      "10#2MHD_1_A,RMSD_CA,0.7372067886286301,338.36463379859924\n",
      "10#3NO7_1_A,RMSD_CA,1.0952503899559236,81.9446210861206\n",
      "10#2KW1_1_A,RMSD_CA,0.23231365171597973,120.85253190994263\n",
      "10#2FK5_1_A,RMSD_CA,0.8527862884885931,1856.631195783615\n",
      "10#2MFQ_2_B,RMSD_CA,1.1669570876262094,219.61714386940002\n"
     ]
    }
   ],
   "source": [
    "# Path to reminimization output files:\n",
    "outfiles_dir = \"/net/pulsar/home/koes/jok120/repos/sidechainnet/sidechainnet/research/cluster/230307\"\n",
    "summary_file = \"rmsd_ca_230312.csv\"\n",
    "!echo \"There are\" $(ls -1 /net/pulsar/home/koes/jok120/scnmin230306/min/*.pkl | wc -l) \"minimized proteins.\"\n",
    "!echo \"There are\" $(ls -1 /net/pulsar/home/koes/jok120/scnmin230306/failed/* | wc -l) \"failed proteins.\"\n",
    "!echo \"\"\n",
    "!echo \"protein_name,key,rmsd_ca,duration\" > $summary_file\n",
    "!grep -hr RMSD_CA $outfiles_dir/ >> $summary_file\n",
    "!head $summary_file"
   ]
  },
  {
   "cell_type": "code",
   "execution_count": 3,
   "metadata": {},
   "outputs": [
    {
     "data": {
      "text/html": [
       "<div>\n",
       "<style scoped>\n",
       "    .dataframe tbody tr th:only-of-type {\n",
       "        vertical-align: middle;\n",
       "    }\n",
       "\n",
       "    .dataframe tbody tr th {\n",
       "        vertical-align: top;\n",
       "    }\n",
       "\n",
       "    .dataframe thead th {\n",
       "        text-align: right;\n",
       "    }\n",
       "</style>\n",
       "<table border=\"1\" class=\"dataframe\">\n",
       "  <thead>\n",
       "    <tr style=\"text-align: right;\">\n",
       "      <th></th>\n",
       "      <th>protein_name</th>\n",
       "      <th>key</th>\n",
       "      <th>rmsd_ca</th>\n",
       "      <th>duration</th>\n",
       "    </tr>\n",
       "  </thead>\n",
       "  <tbody>\n",
       "    <tr>\n",
       "      <th>12391</th>\n",
       "      <td>1TZS_3_X</td>\n",
       "      <td>RMSD_CA</td>\n",
       "      <td>0.006024</td>\n",
       "      <td>7.288131</td>\n",
       "    </tr>\n",
       "    <tr>\n",
       "      <th>8863</th>\n",
       "      <td>1O6O_2_D</td>\n",
       "      <td>RMSD_CA</td>\n",
       "      <td>0.013468</td>\n",
       "      <td>8.264843</td>\n",
       "    </tr>\n",
       "    <tr>\n",
       "      <th>10052</th>\n",
       "      <td>1Q1S_1_A</td>\n",
       "      <td>RMSD_CA</td>\n",
       "      <td>0.022180</td>\n",
       "      <td>6.973112</td>\n",
       "    </tr>\n",
       "    <tr>\n",
       "      <th>12390</th>\n",
       "      <td>1TZS_2_P</td>\n",
       "      <td>RMSD_CA</td>\n",
       "      <td>0.022475</td>\n",
       "      <td>7.614296</td>\n",
       "    </tr>\n",
       "    <tr>\n",
       "      <th>9393</th>\n",
       "      <td>1P16_2_C</td>\n",
       "      <td>RMSD_CA</td>\n",
       "      <td>0.025638</td>\n",
       "      <td>7.945335</td>\n",
       "    </tr>\n",
       "  </tbody>\n",
       "</table>\n",
       "</div>"
      ],
      "text/plain": [
       "      protein_name      key   rmsd_ca  duration\n",
       "12391     1TZS_3_X  RMSD_CA  0.006024  7.288131\n",
       "8863      1O6O_2_D  RMSD_CA  0.013468  8.264843\n",
       "10052     1Q1S_1_A  RMSD_CA  0.022180  6.973112\n",
       "12390     1TZS_2_P  RMSD_CA  0.022475  7.614296\n",
       "9393      1P16_2_C  RMSD_CA  0.025638  7.945335"
      ]
     },
     "execution_count": 3,
     "metadata": {},
     "output_type": "execute_result"
    }
   ],
   "source": [
    "df = pd.read_csv(summary_file)\n",
    "df.sort_values(by='rmsd_ca', ascending=True).head()"
   ]
  },
  {
   "cell_type": "code",
   "execution_count": 6,
   "metadata": {},
   "outputs": [
    {
     "data": {
      "image/png": "[encoded data removed]",
      "text/plain": [
       "<Figure size 720x576 with 1 Axes>"
      ]
     },
     "metadata": {
      "needs_background": "light"
     },
     "output_type": "display_data"
    },
    {
     "name": "stdout",
     "output_type": "stream",
     "text": [
      "Fraction of structures with RMSD_CA < 2: 0.8877992868059094\n",
      "Fraction of structures with RMSD_CA < 1: 0.6920529801324503\n",
      "\n",
      "Number of structures with RMSD_CA < 2: 13942\n",
      "Number of structures with RMSD_CA > 2: 1762\n",
      "\n",
      "Number of structures with RMSD_CA < 3: 14870\n",
      "Number of structures with RMSD_CA > 3: 834\n",
      "\n",
      "Number of structures with RMSD_CA < 4: 15246\n",
      "Number of structures with RMSD_CA > 4: 458\n",
      "\n",
      "Number of structures with RMSD_CA < 5: 15410\n",
      "Number of structures with RMSD_CA > 5: 294\n"
     ]
    }
   ],
   "source": [
    "df.hist(column=\"rmsd_ca\", bins=50)\n",
    "plt.title(\"RMSD_CA to native structure\")\n",
    "plt.axvline(2, color=\"k\", linestyle=\"dashed\");\n",
    "plt.show()\n",
    "\n",
    "print(\"Fraction of structures with RMSD_CA < 2:\", len(df[df['rmsd_ca'] < 2]) / len(df))\n",
    "print(\"Fraction of structures with RMSD_CA < 1:\", len(df[df['rmsd_ca'] < 1]) / len(df))\n",
    "print(\"\")\n",
    "print(\"Number of structures with RMSD_CA < 2:\", len(df[df['rmsd_ca'] < 2]))\n",
    "print(\"Number of structures with RMSD_CA > 2:\", len(df[df['rmsd_ca'] > 2]))\n",
    "print(\"\")\n",
    "print(\"Number of structures with RMSD_CA < 3:\", len(df[df['rmsd_ca'] < 3]))\n",
    "print(\"Number of structures with RMSD_CA > 3:\", len(df[df['rmsd_ca'] > 3]))\n",
    "print(\"\")\n",
    "print(\"Number of structures with RMSD_CA < 4:\", len(df[df['rmsd_ca'] < 4]))\n",
    "print(\"Number of structures with RMSD_CA > 4:\", len(df[df['rmsd_ca'] > 4]))\n",
    "print(\"\")\n",
    "print(\"Number of structures with RMSD_CA < 5:\", len(df[df['rmsd_ca'] < 5]))\n",
    "print(\"Number of structures with RMSD_CA > 5:\", len(df[df['rmsd_ca'] > 5]))\n",
    "\n"
   ]
  },
  {
   "cell_type": "code",
   "execution_count": 7,
   "metadata": {},
   "outputs": [
    {
     "data": {
      "image/png": "[encoded data removed]",
      "text/plain": [
       "<Figure size 720x576 with 1 Axes>"
      ]
     },
     "metadata": {
      "needs_background": "light"
     },
     "output_type": "display_data"
    },
    {
     "name": "stdout",
     "output_type": "stream",
     "text": [
      "count    15704.000000\n",
      "mean        33.942916\n",
      "std         79.834129\n",
      "min          0.107543\n",
      "25%          4.391112\n",
      "50%         10.709386\n",
      "75%         31.665699\n",
      "max       1991.336118\n",
      "Name: duration, dtype: float64\n"
     ]
    }
   ],
   "source": [
    "(df['duration'] / 60).hist(bins=50)\n",
    "plt.xlabel(\"Duration (min)\");\n",
    "plt.title(\"Duration of Reminimization\");\n",
    "plt.show()\n",
    "print((df['duration'] / 60).describe())"
   ]
  },
  {
   "cell_type": "code",
   "execution_count": null,
   "metadata": {},
   "outputs": [],
   "source": []
  }
 ],
 "metadata": {
  "kernelspec": {
   "display_name": "sidechainnetv2",
   "language": "python",
   "name": "python3"
  },
  "language_info": {
   "codemirror_mode": {
    "name": "ipython",
    "version": 3
   },
   "file_extension": ".py",
   "mimetype": "text/x-python",
   "name": "python",
   "nbconvert_exporter": "python",
   "pygments_lexer": "ipython3",
   "version": "3.8.12"
  },
  "orig_nbformat": 4,
  "vscode": {
   "interpreter": {
    "hash": "2ea65d684a20c904dd0ce196a8938c08205850e9bd6d966931389d7cee446e27"
   }
  }
 },
 "nbformat": 4,
 "nbformat_minor": 2
}
