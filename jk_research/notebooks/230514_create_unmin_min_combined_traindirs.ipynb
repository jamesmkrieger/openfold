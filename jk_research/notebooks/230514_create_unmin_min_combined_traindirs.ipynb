{
 "cells": [
  {
   "attachments": {},
   "cell_type": "markdown",
   "metadata": {},
   "source": [
    "In an effort to increase our training set size, I will combine minimized and unminimized\n",
    "alignments as well as structure data into mixed training dirs."
   ]
  },
  {
   "cell_type": "code",
   "execution_count": 1,
   "metadata": {},
   "outputs": [
    {
     "name": "stdout",
     "output_type": "stream",
     "text": [
      "/net/pulsar/home/koes/jok120/openfold\n"
     ]
    }
   ],
   "source": [
    "%cd ~/openfold"
   ]
  },
  {
   "cell_type": "code",
   "execution_count": 2,
   "metadata": {},
   "outputs": [
    {
     "name": "stdout",
     "output_type": "stream",
     "text": [
      "alignment_index  mmseqs_dbs\t      obsolete.dat\ttrain_structs\n",
      "alignments\t obsolete_230221.dat  template_structs\tvalidation\n",
      "caches\t\t obsolete_230310.dat  test\n"
     ]
    }
   ],
   "source": [
    "!ls data"
   ]
  },
  {
   "cell_type": "code",
   "execution_count": 3,
   "metadata": {},
   "outputs": [
    {
     "name": "stdout",
     "output_type": "stream",
     "text": [
      "combined_scnmin_alignments0510\n",
      "combined_scnmin_alignments0510_random10k\n",
      "combined_scnmin_alignments0510_random10k_to_remove.txt\n",
      "combined_scnmin_alignments0510_random10k.txt\n",
      "random10k\n",
      "random10k_links\n",
      "roda_flattened\n",
      "roda_raw_do_not_overwrite\n",
      "scnmin_alignments\n",
      "scnmin_alignments0510\n"
     ]
    }
   ],
   "source": [
    "!ls data/alignments"
   ]
  },
  {
   "cell_type": "code",
   "execution_count": 4,
   "metadata": {},
   "outputs": [
    {
     "name": "stdout",
     "output_type": "stream",
     "text": [
      "101m_A\n",
      "102l_A\n",
      "102m_A\n",
      "103l_A\n",
      "104l_A\n",
      "104m_A\n",
      "106m_A\n",
      "107l_A\n",
      "108l_A\n",
      "109l_A\n",
      "ls: write error: Broken pipe\n"
     ]
    }
   ],
   "source": [
    "!ls data/alignments/roda_flattened/alignments | head"
   ]
  },
  {
   "cell_type": "code",
   "execution_count": 5,
   "metadata": {},
   "outputs": [
    {
     "name": "stdout",
     "output_type": "stream",
     "text": [
      "102m_A\n",
      "12e8_H\n",
      "12e8_L\n",
      "133l_A\n",
      "134l_A\n",
      "149l_A\n",
      "152l_A\n",
      "15c8_L\n",
      "168l_A\n",
      "170l_A\n",
      "ls: write error: Broken pipe\n"
     ]
    }
   ],
   "source": [
    "!ls data/alignments/scnmin_alignments0510 | head"
   ]
  },
  {
   "cell_type": "code",
   "execution_count": 6,
   "metadata": {},
   "outputs": [
    {
     "name": "stdout",
     "output_type": "stream",
     "text": [
      "100d.cif\n",
      "101d.cif\n",
      "101m.cif\n",
      "102d.cif\n",
      "102l.cif\n",
      "102m.cif\n",
      "103d.cif\n",
      "103l.cif\n",
      "103m.cif\n",
      "104d.cif\n",
      "ls: write error: Broken pipe\n",
      "102l.cif\n",
      "105d.cif\n",
      "10mh.cif\n",
      "111m.cif\n",
      "115l.cif\n",
      "117d.cif\n",
      "133l.cif\n",
      "137l.cif\n",
      "157d.cif\n",
      "159l.cif\n",
      "ls: write error: Broken pipe\n"
     ]
    }
   ],
   "source": [
    "!ls data/train_structs/roda_pdbs_snapshotted_flattened_do_not_overwrite | head\n",
    "!ls data/train_structs/random10k | head"
   ]
  },
  {
   "cell_type": "code",
   "execution_count": 7,
   "metadata": {},
   "outputs": [
    {
     "name": "stdout",
     "output_type": "stream",
     "text": [
      "alphafold_pdb_mmcif_raw_do_not_overwrite\n",
      "combined_scnmin_structs0510\n",
      "combined_scnmin_structs0510_random10k\n",
      "combined_scnmin_structs0510_random10k.txt\n",
      "obsolete.dat\n",
      "old_delete\n",
      "random10k\n",
      "random10k.txt\n",
      "roda_pdbs_snapshotted_flattened_do_not_overwrite\n",
      "scnmin_structs\n",
      "scnmin_structs0510\n",
      "scnmin_structs_cif\n"
     ]
    }
   ],
   "source": [
    "!ls data/train_structs"
   ]
  },
  {
   "cell_type": "markdown",
   "metadata": {},
   "source": []
  },
  {
   "cell_type": "code",
   "execution_count": null,
   "metadata": {},
   "outputs": [],
   "source": [
    "!mkdir data/train_structs/combined_scnmin_structs0510_random10k"
   ]
  },
  {
   "cell_type": "code",
   "execution_count": 12,
   "metadata": {},
   "outputs": [
    {
     "name": "stdout",
     "output_type": "stream",
     "text": [
      "/net/pulsar/home/koes/jok120/openfold\n"
     ]
    }
   ],
   "source": [
    "# Select 30k random subdirectories from /net/pulsar/home/koes/jok120/openfold/data/alignments/roda_flattened/alignments/\n",
    "# and link them to data/alignments/combined_scnmin_alignments0510_random30k\n",
    "\n",
    "# Use linux pipe to select 30k random lines from the filed ~/openfold\n",
    "%cd ~/openfold\n",
    "!find /net/pulsar/home/koes/jok120/openfold/data/alignments/roda_flattened/alignments -type d | shuf -n 30000 > data/30k_random_lines.txt\n"
   ]
  },
  {
   "cell_type": "code",
   "execution_count": 13,
   "metadata": {},
   "outputs": [
    {
     "name": "stdout",
     "output_type": "stream",
     "text": [
      "/net/pulsar/home/koes/jok120/openfold\n"
     ]
    }
   ],
   "source": [
    "# link the directories listed in data/30k_random_lines.txt to data/alignments/combined_scnmin_alignments0510_random30k\n",
    "%cd ~/openfold\n",
    "!mkdir data/alignments/combined_scnmin_alignments0510_random30k\n",
    "!cat data/30k_random_lines.txt | xargs -I {} ln -s {} data/alignments/combined_scnmin_alignments0510_random30k"
   ]
  },
  {
   "cell_type": "code",
   "execution_count": null,
   "metadata": {},
   "outputs": [],
   "source": [
    "# Link all of the structures from data/train_structs/roda_pdbs_snapshotted_flattened_do_not_overwrite\n",
    "# into data/train_structs/combined_scnmin_structs0510 but first make the target directory\n",
    "# if it doesn't exist. Also link all of the structures from data/train_structs/scnmin_structs0510\n",
    "!mkdir data/train_structs/combined_scnmin_structs0510\n",
    "\n",
    "# !ln -s ~/openfold/data/train_structs/roda_pdbs_snapshotted_flattened_do_not_overwrite/* data/train_structs/combined_scnmin_structs0510/\n",
    "\n",
    "\n",
    "# Rewrite the first ln -s command using find due to too many arguments\n",
    "!find ~/openfold/data/train_structs/roda_pdbs_snapshotted_flattened_do_not_overwrite/ -type f -exec ln -s {} ~/openfold/data/train_structs/combined_scnmin_structs0510/ \\;\n",
    "!ln -s ~/openfold/data/train_structs/scnmin_structs0510/* data/train_structs/combined_scnmin_structs0510/\n"
   ]
  },
  {
   "cell_type": "code",
   "execution_count": null,
   "metadata": {},
   "outputs": [],
   "source": [
    "# Create a new alignment directory that mirrors the structure directory\n",
    "\n",
    "# Link all of the alignments from data/alignments/roda_flattened/alignments using find\n",
    "# into data/alignments/combined_scnmin_alignments0510 but first make the target directory\n",
    "\n",
    "!mkdir data/alignments/combined_scnmin_alignments0510\n",
    "\n",
    "\n",
    "!find /net/pulsar/home/koes/jok120/openfold/data/alignments/roda_flattened/alignments/ \\\n",
    "    -type d -exec ln -sf {} /net/pulsar/home/koes/jok120//openfold/data/alignments/combined_scnmin_alignments0510/ \\;\n",
    "\n",
    "!ln -sf /net/pulsar/home/koes/jok120/openfold/data/alignments/scnmin_alignments0510/* \\\n",
    "    /net/pulsar/home/koes/jok120/openfolddata/alignments/combined_scnmin_alignments0510/\n"
   ]
  },
  {
   "cell_type": "code",
   "execution_count": null,
   "metadata": {},
   "outputs": [],
   "source": [
    "!find /net/pulsar/home/koes/jok120/openfold/data/alignments/roda_flattened/alignments -type d | head"
   ]
  },
  {
   "cell_type": "code",
   "execution_count": null,
   "metadata": {},
   "outputs": [],
   "source": [
    "!ln -s data/alignments/roda_flattened/alignments/101m_A "
   ]
  },
  {
   "cell_type": "code",
   "execution_count": null,
   "metadata": {},
   "outputs": [],
   "source": [
    "# Create symlinks for the structure files from data/train_structs/random10k to data/train_structs\n",
    "!ln -s ~/openfold/data/train_structs/random10k/* ~/openfold/data/train_structs/combined_scnmin_structs0510_random10k/"
   ]
  },
  {
   "cell_type": "code",
   "execution_count": null,
   "metadata": {},
   "outputs": [],
   "source": [
    "!ls data/train_structs/combined_scnmin_structs0510_random10k | head"
   ]
  },
  {
   "cell_type": "code",
   "execution_count": null,
   "metadata": {},
   "outputs": [],
   "source": [
    "# Create symlinks for the structure files from data/train_structs/scnmin_structs0510 to data/train_structs\n",
    "!ln -s ~/openfold/data/train_structs/scnmin_structs0510/* ~/openfold/data/train_structs/combined_scnmin_structs0510_random10k/\n"
   ]
  },
  {
   "cell_type": "code",
   "execution_count": null,
   "metadata": {},
   "outputs": [],
   "source": [
    "# Create symlinks for the subdirs in data/alignments/scnmin_alignments0510 to data/alignments/combined_scnmin_alignments0510_random10k\n",
    "# First make the target dir\n",
    "!mkdir data/alignments/combined_scnmin_alignments0510_random10k\n",
    "\n",
    "# Then create the symlinks\n",
    "!ln -s ~/openfold/data/alignments/scnmin_alignments0510/* ~/openfold/data/alignments/combined_scnmin_alignments0510_random10k/\n",
    "\n",
    "# Repeat this for subdirs in data/alignments/random10k (some might already exist)\n",
    "!ln -s ~/openfold/data/alignments/random10k/* ~/openfold/data/alignments/combined_scnmin_alignments0510_random10k/"
   ]
  },
  {
   "cell_type": "code",
   "execution_count": null,
   "metadata": {},
   "outputs": [],
   "source": [
    "!ls -1 data/alignments/combined_scnmin_alignments0510_random10k | wc -l"
   ]
  },
  {
   "cell_type": "code",
   "execution_count": null,
   "metadata": {},
   "outputs": [],
   "source": [
    "!ls -1 data/alignments/scnmin_alignments0510 | wc -l"
   ]
  },
  {
   "cell_type": "code",
   "execution_count": null,
   "metadata": {},
   "outputs": [],
   "source": [
    "!ls -1 data/alignments/scnmin_alignments | wc -l"
   ]
  },
  {
   "cell_type": "code",
   "execution_count": null,
   "metadata": {},
   "outputs": [],
   "source": [
    "20788/6199, 11687/6199 "
   ]
  },
  {
   "cell_type": "code",
   "execution_count": null,
   "metadata": {},
   "outputs": [],
   "source": [
    "%%bash\n",
    "\n",
    "cd ~/openfold\n",
    "# Identify entries that are present in alignments like {4lettercode}_{chainid} but don't have structures in data/train_structs\n",
    "# any of {4letter_code}.{pdb,cif} or {4letter_code}_{chainid}.{pdb,cif}\n",
    "# These are the entries that we need to remove from the alignments\n",
    "\n",
    "# for alignment in data/alignments/combined_scnmin_alignments0510_random10k/*; do\n",
    "#     #echo $alignment\n",
    "#     #echo $(basename $alignment)\n",
    "#     pdbid=$(basename $alignment | cut -d'_' -f1)\n",
    "#     chainid=$(basename $alignment | cut -d'_' -f2)\n",
    "#     # echo $pdbid $chainid\n",
    "#     if [ ! -f data/train_structs/combined_scnmin_structs0510_random10k/${pdbid}_${chainid}.pdb ] && [ ! -f data/train_structs/combined_scnmin_structs0510_random10k/${pdbid}_${chainid}.cif ] && [ ! -f data/train_structs/combined_scnmin_structs0510_random10k/${pdbid}.pdb ] && [ ! -f data/train_structs/combined_scnmin_structs0510_random10k/${pdbid}.cif ]; then\n",
    "#         echo $pdbid $chainid\n",
    "#     fi\n",
    "# done\n",
    "\n",
    "# Count the number of entries that we need to remove\n",
    "for alignment in data/alignments/combined_scnmin_alignments0510_random10k/*; do\n",
    "    #echo $alignment\n",
    "    #echo $(basename $alignment)\n",
    "    pdbid=$(basename $alignment | cut -d'_' -f1)\n",
    "    chainid=$(basename $alignment | cut -d'_' -f2)\n",
    "    # echo $pdbid $chainid\n",
    "    if [ ! -f data/train_structs/combined_scnmin_structs0510_random10k/${pdbid}_${chainid}.pdb ] && [ ! -f data/train_structs/combined_scnmin_structs0510_random10k/${pdbid}_${chainid}.cif ] && [ ! -f data/train_structs/combined_scnmin_structs0510_random10k/${pdbid}.pdb ] && [ ! -f data/train_structs/combined_scnmin_structs0510_random10k/${pdbid}.cif ]; then\n",
    "    echo $pdbid $chainid\n",
    "    fi\n",
    "done | wc -l"
   ]
  },
  {
   "cell_type": "code",
   "execution_count": null,
   "metadata": {},
   "outputs": [],
   "source": [
    "!ls data/ | head"
   ]
  },
  {
   "cell_type": "code",
   "execution_count": null,
   "metadata": {},
   "outputs": [],
   "source": []
  }
 ],
 "metadata": {
  "kernelspec": {
   "display_name": "sidechainnetv2",
   "language": "python",
   "name": "python3"
  },
  "language_info": {
   "codemirror_mode": {
    "name": "ipython",
    "version": 3
   },
   "file_extension": ".py",
   "mimetype": "text/x-python",
   "name": "python",
   "nbconvert_exporter": "python",
   "pygments_lexer": "ipython3",
   "version": "3.8.12"
  },
  "orig_nbformat": 4
 },
 "nbformat": 4,
 "nbformat_minor": 2
}
