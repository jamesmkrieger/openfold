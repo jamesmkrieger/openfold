{
 "cells": [
  {
   "cell_type": "code",
   "execution_count": 1,
   "metadata": {},
   "outputs": [],
   "source": [
    "import numpy as np\n",
    "import matplotlib.pyplot as plt"
   ]
  },
  {
   "cell_type": "code",
   "execution_count": 8,
   "metadata": {},
   "outputs": [],
   "source": [
    "# Create a learning rate schedule that starts at 1e-4 and increases to 1 over 1000 steps\n",
    "class OpenMMLR:\n",
    "    \"\"\"Learning rate schedule that starts at 1e-4 and increases to 1 over 1000 steps\"\"\"\n",
    "    def __init__(self, start=1e-4, end=1, steps=1000):\n",
    "        self.lr = np.linspace(start, end, steps)\n",
    "        self.steps = steps\n",
    "        self.cur_step = 0\n",
    "    def step(self):\n",
    "        self.cur_step += 1\n",
    "    def get_lr(self, step=None):\n",
    "        if step is None:\n",
    "            step = self.cur_step\n",
    "        if self.cur_step >= self.steps:\n",
    "            return self.lr[-1]\n",
    "        else:\n",
    "            return self.lr[self.cur_step]\n",
    "    def get_lr_and_step(self):\n",
    "        val = self.get_lr()\n",
    "        self.step()\n",
    "        return val\n",
    "    def plot(self, n_steps=None):\n",
    "        if n_steps is None:\n",
    "            n_steps = self.steps\n",
    "        plt.plot([self.get_lr_and_step() for _ in range(n_steps)])\n",
    "        plt.show()"
   ]
  },
  {
   "cell_type": "code",
   "execution_count": 10,
   "metadata": {},
   "outputs": [
    {
     "data": {
      "image/png": "[encoded data removed]",
      "text/plain": [
       "<Figure size 432x288 with 1 Axes>"
      ]
     },
     "metadata": {
      "needs_background": "light"
     },
     "output_type": "display_data"
    }
   ],
   "source": [
    "omm_schedule = OpenMMLR()\n",
    "omm_schedule.plot(n_steps=2000)"
   ]
  },
  {
   "cell_type": "code",
   "execution_count": null,
   "metadata": {},
   "outputs": [],
   "source": []
  }
 ],
 "metadata": {
  "kernelspec": {
   "display_name": "sidechainnetv2",
   "language": "python",
   "name": "python3"
  },
  "language_info": {
   "codemirror_mode": {
    "name": "ipython",
    "version": 3
   },
   "file_extension": ".py",
   "mimetype": "text/x-python",
   "name": "python",
   "nbconvert_exporter": "python",
   "pygments_lexer": "ipython3",
   "version": "3.8.12"
  },
  "orig_nbformat": 4,
  "vscode": {
   "interpreter": {
    "hash": "2ea65d684a20c904dd0ce196a8938c08205850e9bd6d966931389d7cee446e27"
   }
  }
 },
 "nbformat": 4,
 "nbformat_minor": 2
}
