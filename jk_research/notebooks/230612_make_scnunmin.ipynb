{
 "cells": [
  {
   "cell_type": "code",
   "execution_count": 1,
   "metadata": {},
   "outputs": [
    {
     "name": "stdout",
     "output_type": "stream",
     "text": [
      "/net/pulsar/home/koes/jok120\n"
     ]
    }
   ],
   "source": [
    "import sidechainnet as scn\n",
    "from glob import glob\n",
    "import os\n",
    "import tqdm.notebook as tqdm\n",
    "\n",
    "\n",
    "data_dir = \"/net/pulsar/home/koes/jok120/scnmin221001/unmin\"\n",
    "%cd ~/"
   ]
  },
  {
   "cell_type": "code",
   "execution_count": 2,
   "metadata": {},
   "outputs": [],
   "source": [
    "def insensitive_glob(pattern):\n",
    "    def either(c):\n",
    "        return '[%s%s]' % (c.lower(), c.upper()) if c.isalpha() else c\n",
    "    return glob(''.join(map(either, pattern)))"
   ]
  },
  {
   "cell_type": "code",
   "execution_count": 12,
   "metadata": {},
   "outputs": [],
   "source": [
    "def get_corresponding_pkl(starting_pdb, dir_with_pkls):\n",
    "    dirs, name = os.path.split(starting_pdb)\n",
    "    pdbcode_chain, extension = os.path.splitext(name)\n",
    "    pdbcode, chain = pdbcode_chain.split(\"_\")\n",
    "    if \"#\" in pdbcode:\n",
    "        pdbcode = pdbcode.split(\"#\")[1]\n",
    "    new_basename = f\"*{pdbcode.upper()}_*_{chain}.pkl\"\n",
    "    new_path_glob = os.path.join(dir_with_pkls, new_basename)\n",
    "    try: \n",
    "        new_path = glob(new_path_glob)[0]\n",
    "    except IndexError:      \n",
    "        try:\n",
    "            new_path = insensitive_glob(new_path_glob)[0]\n",
    "        except IndexError:\n",
    "            print(f\"Could not find {new_basename} in {dir_with_pkls}\")\n",
    "            return None\n",
    "    \n",
    "    return new_path\n",
    "\n"
   ]
  },
  {
   "cell_type": "code",
   "execution_count": 13,
   "metadata": {},
   "outputs": [
    {
     "data": {
      "text/plain": [
       "32994"
      ]
     },
     "execution_count": 13,
     "metadata": {},
     "output_type": "execute_result"
    }
   ],
   "source": [
    "len(glob(f\"/net/pulsar/home/koes/jok120/openfold/data/train_structs/scnmin_structs0530/*.pdb\"))"
   ]
  },
  {
   "cell_type": "code",
   "execution_count": 15,
   "metadata": {},
   "outputs": [
    {
     "data": {
      "application/vnd.jupyter.widget-view+json": {
       "model_id": "38d106cc5d82419a97ff63ec66a740dd",
       "version_major": 2,
       "version_minor": 0
      },
      "text/plain": [
       "  0%|          | 0/32994 [00:00<?, ?it/s]"
      ]
     },
     "metadata": {},
     "output_type": "display_data"
    }
   ],
   "source": [
    "failed = []\n",
    "for protein in tqdm.tqdm(insensitive_glob(f\"openfold/data/train_structs/scnmin_structs0530/*.pdb\")):\n",
    "    # print(protein)\n",
    "    corresponding_protein_pkl = get_corresponding_pkl(protein, data_dir)\n",
    "    if corresponding_protein_pkl is None:\n",
    "        print(f\"Could not find {protein}.\")\n",
    "        failed.append(protein)\n",
    "        continue\n",
    "    # print(corresponding_protein_pkl)\n",
    "    p = scn.SCNProtein.from_pkl(corresponding_protein_pkl)\n",
    "    # print(p)\n",
    "    outpath = \"openfold/data/train_structs/scnunmin_structs0530/\" + os.path.basename(protein)\n",
    "    # print(outpath)\n",
    "    p.to_pdb(outpath)"
   ]
  },
  {
   "cell_type": "code",
   "execution_count": null,
   "metadata": {},
   "outputs": [],
   "source": [
    "\n",
    "\n",
    "\n",
    "# Write this loop in a parallelized way\n",
    "# Path: jk_research/notebooks/230612_make_scnunmin.ipynb\n",
    "import sidechainnet as scn\n",
    "from glob import glob\n",
    "import os\n",
    "# import tqdm.notebook as tqdm\n",
    "from tqdm import tqdm\n",
    "from joblib import Parallel, delayed\n",
    "import multiprocessing\n",
    "\n",
    "\n",
    "\n",
    "data_dir = \"scnmin221001/unmin\"\n",
    "%cd ~/\n",
    "\n",
    "def get_corresponding_pkl(starting_pdb, dir_with_pkls):\n",
    "    dirs, name = os.path.split(starting_pdb)\n",
    "    pdbcode_chain, extension = os.path.splitext(name)\n",
    "    pdbcode, chain = pdbcode_chain.split(\"_\")\n",
    "    new_basename = f\"{pdbcode.upper()}_*_{chain.upper()}.pkl\"\n",
    "    new_path_glob = os.path.join(dir_with_pkls, new_basename)\n",
    "    try:\n",
    "        new_path = insensitive_glob(new_path_glob)[0]\n",
    "    except IndexError:\n",
    "        print(f\"Could not find {new_basename} in {dir_with_pkls}\")\n",
    "        return None\n",
    "    return new_path\n",
    "\n",
    "\n",
    "def make_unmin(protein):\n",
    "    # print(protein)\n",
    "    corresponding_protein_pkl = get_corresponding_pkl(protein, \"/net/pulsar/home/koes/jok120/scnmin221001/unmin\")\n",
    "    # print(corresponding_protein_pkl)\n",
    "    if corresponding_protein_pkl is None:\n",
    "        print(f\"Could not find corresponding pkl for {protein}\")\n",
    "        return protein\n",
    "    p = scn.SCNProtein.from_pkl(corresponding_protein_pkl)\n",
    "    # print(p)\n",
    "    outpath = \"/net/pulsar/home/koes/jok120/openfold/data/train_structs/scnunmin_structs0530/\" + os.path.basename(protein)\n",
    "    # print(outpath)\n",
    "    p.to_pdb(outpath)\n",
    "    return \"okay\"\n",
    "\n",
    "with multiprocessing.Pool(60) as pool:\n",
    "    failed = pool.map(make_unmin, glob(f\"/net/pulsar/home/koes/jok120/openfold/data/train_structs/scnmin_structs0530/*.pdb\"))\n",
    "\n",
    "\n",
    "# Parallel(n_jobs=12)(delayed(make_unmin)(protein) for protein in tqdm(glob(f\"openfold/data/train_structs/scnmin_structs0530/*.pdb\"), total=32994))"
   ]
  },
  {
   "cell_type": "code",
   "execution_count": null,
   "metadata": {},
   "outputs": [],
   "source": [
    "glob(f\"/net/pulsar/home/koes/jok120/openfold/data/train_structs/scnmin_structs0530/*.pdb\")"
   ]
  },
  {
   "cell_type": "code",
   "execution_count": null,
   "metadata": {},
   "outputs": [],
   "source": [
    "for protein_pkl in glob(f\"{data_dir}/*.pkl\"):\n",
    "    p = scn.SCNProtein.from_pkl(protein_pkl)\n",
    "    print(p)\n",
    "    break"
   ]
  },
  {
   "cell_type": "code",
   "execution_count": null,
   "metadata": {},
   "outputs": [],
   "source": [
    "def get_scn_full_pattern_from_codechain_pattern(openfold_path):\n",
    "    dirs, name = os.path.split(openfold_path)\n",
    "    pdbcode_chain, extension = os.path.splitext(name)\n",
    "    pdbcode, chain = pdbcode_chain.split(\"_\")\n",
    "    # scn_pattern = os.path.join(dirs, f\"{pdbcode.upper()}_*_{chain.upper()}.pkl\")\n",
    "    scn_pattern = f\"{pdbcode.upper()}_*_{chain.upper()}.pkl\"\n",
    "    return scn_pattern"
   ]
  },
  {
   "cell_type": "code",
   "execution_count": null,
   "metadata": {},
   "outputs": [],
   "source": [
    "!find /net/pulsar/home/koes/jok120/openfold/data/train_structs/scnmin_structs0530/ -name \"*.pdb\" -type f "
   ]
  },
  {
   "cell_type": "code",
   "execution_count": null,
   "metadata": {},
   "outputs": [],
   "source": [
    "starting_files = "
   ]
  },
  {
   "cell_type": "code",
   "execution_count": null,
   "metadata": {},
   "outputs": [],
   "source": [
    "for scnmin_protein_fn in !ls ~/openfold/data/train_structs/scnmin_structs0530/*pdb:\n",
    "    scn_style_name_pattern = get_scn_full_pattern_from_codechain_pattern(scnmin_protein_fn)\n",
    "    print(scn_style_name_pattern)\n",
    "    actual_file_unmin = next(glob(f\"{data_dir}/{scn_style_name_pattern}\"))\n",
    "    p = scn.SCNProtein.from_pkl(actual_file_unmin)\n",
    "    print(p)\n",
    "    break"
   ]
  },
  {
   "cell_type": "code",
   "execution_count": null,
   "metadata": {},
   "outputs": [],
   "source": [
    "glob(f\"~/openfold/data/train_structs/scnmin_structs0530/*pdb\", recursive=True)"
   ]
  },
  {
   "cell_type": "code",
   "execution_count": null,
   "metadata": {},
   "outputs": [],
   "source": []
  }
 ],
 "metadata": {
  "kernelspec": {
   "display_name": "sidechainnetv2",
   "language": "python",
   "name": "python3"
  },
  "language_info": {
   "codemirror_mode": {
    "name": "ipython",
    "version": 3
   },
   "file_extension": ".py",
   "mimetype": "text/x-python",
   "name": "python",
   "nbconvert_exporter": "python",
   "pygments_lexer": "ipython3",
   "version": "3.8.12"
  },
  "orig_nbformat": 4
 },
 "nbformat": 4,
 "nbformat_minor": 2
}
