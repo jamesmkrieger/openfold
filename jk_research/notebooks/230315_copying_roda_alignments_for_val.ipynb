{
 "cells": [
  {
   "attachments": {},
   "cell_type": "markdown",
   "metadata": {},
   "source": [
    "The performance on validation data is pretty poor. Maybe something went wrong with the alignments I produced. I'll try copying/soft linking these alignments for the validation data instead."
   ]
  },
  {
   "cell_type": "code",
   "execution_count": 1,
   "metadata": {},
   "outputs": [],
   "source": [
    "from glob import glob"
   ]
  },
  {
   "cell_type": "code",
   "execution_count": 2,
   "metadata": {},
   "outputs": [
    {
     "name": "stdout",
     "output_type": "stream",
     "text": [
      "['7ny6_A', '7dup_A', '7b2o_A', '7vpf_A', '7kdx_B']\n"
     ]
    }
   ],
   "source": [
    "val_proteins = glob('../data/validation/cameo/20220116/fasta_dir/*.fasta')\n",
    "val_proteins = [x.split('/')[-1].split('.')[0] for x in val_proteins]\n",
    "print(val_proteins[:5])"
   ]
  },
  {
   "cell_type": "code",
   "execution_count": 3,
   "metadata": {},
   "outputs": [],
   "source": [
    "mkdir -p ../data/validation/cameo/20220116/roda_alignments_linked"
   ]
  },
  {
   "cell_type": "code",
   "execution_count": 7,
   "metadata": {},
   "outputs": [],
   "source": [
    "# Create a symlink for each protein from ../data/alignments/roda_flattened/alignments to ../data/validation/cameo/20220116/roda_alignments_linked\n",
    "for p in val_proteins:\n",
    "    !ln -s /net/g019/scr/jok120/yoda/alignments/roda_flattened/alignments/$p /scr/jok120/yoda/validation_data/cameo/20220116/roda_alignments_linked/$p"
   ]
  },
  {
   "cell_type": "code",
   "execution_count": null,
   "metadata": {},
   "outputs": [],
   "source": []
  }
 ],
 "metadata": {
  "kernelspec": {
   "display_name": "Python 3",
   "language": "python",
   "name": "python3"
  },
  "language_info": {
   "codemirror_mode": {
    "name": "ipython",
    "version": 3
   },
   "file_extension": ".py",
   "mimetype": "text/x-python",
   "name": "python",
   "nbconvert_exporter": "python",
   "pygments_lexer": "ipython3",
   "version": "3.9.16"
  },
  "orig_nbformat": 4,
  "vscode": {
   "interpreter": {
    "hash": "84894daf3cb23d9a0aa36b2ee206194c4c8e99fd2565f66373e7b0b22ac07c9b"
   }
  }
 },
 "nbformat": 4,
 "nbformat_minor": 2
}
